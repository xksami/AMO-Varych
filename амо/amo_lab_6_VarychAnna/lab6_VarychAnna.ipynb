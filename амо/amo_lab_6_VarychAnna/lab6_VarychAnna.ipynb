{
 "cells": [
  {
   "cell_type": "markdown",
   "id": "901cd3d2-56ce-4184-835e-222a90002bd5",
   "metadata": {},
   "source": [
    "## Лабораторна робота №6. Структури даних стек і черга."
   ]
  },
  {
   "cell_type": "markdown",
   "id": "88dcd3e6-d016-40b5-9a54-bab66b94d32f",
   "metadata": {},
   "source": [
    "### Мета: засвоїти головні функції та алгоритми роботи зі стеком і чергою засобами Python."
   ]
  },
  {
   "cell_type": "markdown",
   "id": "b97608c3-775f-4ebc-aa82-c09308d4aec8",
   "metadata": {},
   "source": [
    "Виконала студентка групи КН-23-1 Варич Анна"
   ]
  },
  {
   "cell_type": "markdown",
   "id": "a5282d7c-6445-48c9-9c0d-6ead9ae4c1d7",
   "metadata": {},
   "source": [
    "#### Завдання 1: Реалізація стеку на Python"
   ]
  },
  {
   "cell_type": "markdown",
   "id": "7e5621dc-554a-4661-9cb2-28bdecd8c999",
   "metadata": {},
   "source": [
    ">Постановка задачі: \n",
    "* Написати функцію `pop_n()`, що видаляє елементи стеку з його початку до номеру `n` включно.\n",
    "* Оцінити асисптотичну складність (в середньому і в найгіршому випадку) процедур `search`, `insert` і `delete` роботи зі стеком."
   ]
  },
  {
   "cell_type": "code",
   "execution_count": 3,
   "id": "ee35f22b-bdfa-44d3-8310-4b5600ac82e0",
   "metadata": {},
   "outputs": [
    {
     "name": "stdout",
     "output_type": "stream",
     "text": [
      "до виклику pop_n(): ['яблуко', 'банан', 'апельсин']\n",
      "після виклику pop_n(): ['апельсин']\n"
     ]
    }
   ],
   "source": [
    "class Stack:\n",
    "    def __init__(self):\n",
    "        self.items = []\n",
    "\n",
    "    def isEmpty(self):\n",
    "        return self.items == []\n",
    "\n",
    "    def push(self, item):\n",
    "        self.items.append(item)\n",
    "\n",
    "    def pop(self):\n",
    "        return self.items.pop()\n",
    "\n",
    "    def peek(self):\n",
    "        return self.items[-1]\n",
    "\n",
    "    def size(self):\n",
    "        return len(self.items)\n",
    "\n",
    "    def pop_n(self, n):\n",
    "        \n",
    "        if n >= len(self.items):\n",
    "            self.items = []\n",
    "        else:\n",
    "            self.items = self.items[n:]\n",
    "\n",
    "s = Stack()\n",
    "s.push('яблуко')\n",
    "s.push('банан')\n",
    "s.push('апельсин')\n",
    "print(\"до виклику pop_n():\", s.items)\n",
    "s.pop_n(2)  \n",
    "print(\"після виклику pop_n():\", s.items)\n"
   ]
  },
  {
   "cell_type": "markdown",
   "id": "0b52e74f-1e81-4add-bd10-3f6abdc69736",
   "metadata": {},
   "source": [
    "#### Завдання 2: Операції з чергою"
   ]
  },
  {
   "cell_type": "markdown",
   "id": "1c42dc1e-990e-4054-b4c6-1d8a6377b178",
   "metadata": {},
   "source": [
    ">Постановка задачі:\n",
    "* Написати функцію `print_n()`, що друкує елементи черги з його початку до номеру `n` включно.\n",
    "* Оцінити асисптотичну складність (в середньому і в найгіршому випадку) процедур `search`, `insert` і `delete` роботи з чергою."
   ]
  },
  {
   "cell_type": "code",
   "execution_count": 4,
   "id": "8d9b30f3-acb2-4330-9e1a-116af6b72dec",
   "metadata": {},
   "outputs": [
    {
     "name": "stdout",
     "output_type": "stream",
     "text": [
      "Вивід перших 3 елементів черги:\n",
      "1\n",
      "2\n",
      "3\n"
     ]
    }
   ],
   "source": [
    "\n",
    "class Queue:\n",
    "    def __init__(self):\n",
    "        self.items = []\n",
    "\n",
    "    def enqueue(self, item):\n",
    "        self.items.append(item)\n",
    "\n",
    "    def dequeue(self):\n",
    "        if not self.is_empty():\n",
    "            return self.items.pop(0)\n",
    "        else:\n",
    "            return None\n",
    "\n",
    "    def is_empty(self):\n",
    "        return len(self.items) == 0\n",
    "\n",
    "    def size(self):\n",
    "        return len(self.items)\n",
    "\n",
    "def print_n(queue, n):\n",
    "    count = 0\n",
    "    while not queue.is_empty() and count < n:\n",
    "        print(queue.dequeue())\n",
    "        count += 1\n",
    "\n",
    "if __name__ == \"__main__\":\n",
    "    q = Queue()\n",
    "    q.enqueue(1)\n",
    "    q.enqueue(2)\n",
    "    q.enqueue(3)\n",
    "    q.enqueue(4)\n",
    "    q.enqueue(5)\n",
    "\n",
    "    print(\"вивід 3 елементів черги:\")\n",
    "    print_n(q, 3)\n"
   ]
  },
  {
   "cell_type": "markdown",
   "id": "4a46cb5b-6a19-4662-8466-bcd41292ad81",
   "metadata": {},
   "source": [
    "## Контрольні запитання"
   ]
  },
  {
   "cell_type": "markdown",
   "id": "bf483fa3-29bc-4ef9-bfd6-6a4e96f6d46d",
   "metadata": {},
   "source": [
    ">Що таке стек і які операції можна виконувати зі стеком?\n",
    "* Стек - це абстрактна структура даних, яка працює за принципом \"останній прийшов, перший вийшов\" Основні операції, які можна виконувати зі стеком, включають додавання елементу на вершину стеку (push), видалення елементу з вершини стеку (pop) і перегляд елементу, що знаходиться на вершині стеку без видалення (peek).\n",
    ">Яка основна відмінність між стеком та чергою?\n",
    "* Основна відмінність між стеком та чергою полягає в порядку видалення елементів. У стеку елемент, який додався останнім, видаляється першим (LIFO), тоді як у черзі перший доданий елемент видаляється першим     \n",
    ">Як ви можете реалізувати стек за допомогою масиву і за допомогою зв’язаного списку? Які переваги та недоліки кожного підходу?\n",
    "* Реалізація стека за допомогою масиву полягає у використанні звичайного масиву, де вершина стеку вказує на останній доданий елемент. Реалізація за допомогою зв'язаного списку використовує вузли, які мають значення елементу та посилання на наступний елемент у стеці.\n",
    ">Які є застосування стека та черги в програмуванні і реальному житі?\n",
    "* Стек та черга мають різноманітні застосування в програмуванні та реальному житті. Наприклад, стек може використовуватися для реалізації рекурсії, управління пам'яттю (наприклад, у системах операцій), обробки виразів (наприклад, у зворотньому польському записі). "
   ]
  },
  {
   "cell_type": "code",
   "execution_count": null,
   "id": "4b768015-a4c7-4098-9374-3b4fa212790b",
   "metadata": {},
   "outputs": [],
   "source": []
  }
 ],
 "metadata": {
  "kernelspec": {
   "display_name": "Python 3 (ipykernel)",
   "language": "python",
   "name": "python3"
  },
  "language_info": {
   "codemirror_mode": {
    "name": "ipython",
    "version": 3
   },
   "file_extension": ".py",
   "mimetype": "text/x-python",
   "name": "python",
   "nbconvert_exporter": "python",
   "pygments_lexer": "ipython3",
   "version": "3.11.7"
  }
 },
 "nbformat": 4,
 "nbformat_minor": 5
}
