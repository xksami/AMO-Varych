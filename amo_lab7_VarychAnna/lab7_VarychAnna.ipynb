{
 "cells": [
  {
   "cell_type": "markdown",
   "id": "f156bd5f-87ae-4fbe-8f13-7f902fdbf6fa",
   "metadata": {},
   "source": [
    "# Лабораторна робота №6. Структури даних дерево і купа"
   ]
  },
  {
   "cell_type": "markdown",
   "id": "4e227096-2221-4215-88ba-a1d4fa027032",
   "metadata": {},
   "source": [
    "### Мета: Засвоїти основні функції та алгоритми роботи з деревами та купою засобами Python."
   ]
  },
  {
   "cell_type": "markdown",
   "id": "9f4d82ed-022b-44d3-afe7-ad63f75e234a",
   "metadata": {},
   "source": [
    "Виконала робота студентка групи КН-23-1 Варич Анна"
   ]
  },
  {
   "cell_type": "markdown",
   "id": "5dde25c3-fd7c-482d-a2cc-2b03d44847c8",
   "metadata": {},
   "source": [
    "#### Завдання 1: Реалізація дерев за допомогою списків на Python"
   ]
  },
  {
   "cell_type": "markdown",
   "id": "28270945-f270-446c-aa3f-f571f7acb481",
   "metadata": {},
   "source": [
    ">Постановка задачі:\n",
    "* Створити бінарне дерево згідно з варіантом, виданим викладачем.\n",
    "* Написати процедуру видалення заданої гілки дерева.\n",
    "* Оцінити асисптотичну складність (в середньому і в найгіршому випадку) процедур `search`, `insert` і `delete` роботи з деревом."
   ]
  },
  {
   "cell_type": "code",
   "execution_count": 3,
   "id": "2272d493-0ae0-42e2-86bc-5414a1279403",
   "metadata": {},
   "outputs": [
    {
     "name": "stdout",
     "output_type": "stream",
     "text": [
      "дерево після вставки:\n",
      "5 10 15 \n",
      "дерево після видалення:\n",
      "5 15 "
     ]
    }
   ],
   "source": [
    "class TreeNode:\n",
    "    def __init__(self, key):\n",
    "        self.key = key\n",
    "        self.left = self.right = None\n",
    "\n",
    "def insert(root, key):\n",
    "    if not root:\n",
    "        return TreeNode(key)\n",
    "    if key < root.key:\n",
    "        root.left = insert(root.left, key)\n",
    "    else:\n",
    "        root.right = insert(root.right, key)\n",
    "    return root\n",
    "\n",
    "def minValueNode(node):\n",
    "    current = node\n",
    "    while current.left:\n",
    "        current = current.left\n",
    "    return current\n",
    "\n",
    "def delete(root, key):\n",
    "    if not root:\n",
    "        return root\n",
    "    if key < root.key:\n",
    "        root.left = delete(root.left, key)\n",
    "    elif key > root.key:\n",
    "        root.right = delete(root.right, key)\n",
    "    else:\n",
    "        if not root.left:\n",
    "            return root.right\n",
    "        elif not root.right:\n",
    "            return root.left\n",
    "        min_node = minValueNode(root.right)\n",
    "        root.key = min_node.key\n",
    "        root.right = delete(root.right, min_node.key)\n",
    "    return root\n",
    "\n",
    "def inorder_traversal(root):\n",
    "    if root:\n",
    "        inorder_traversal(root.left)\n",
    "        print(root.key, end=' ')\n",
    "        inorder_traversal(root.right)\n",
    "\n",
    "\n",
    "root = None\n",
    "root = insert(root, 10)\n",
    "root = insert(root, 5)\n",
    "root = insert(root, 15)\n",
    "\n",
    "print(\"дерево після вставки:\")\n",
    "inorder_traversal(root)\n",
    "\n",
    "root = delete(root, 10)\n",
    "print(\"\\nдерево після видалення:\")\n",
    "inorder_traversal(root)\n"
   ]
  },
  {
   "cell_type": "markdown",
   "id": "963a9bf1-0bb5-4a22-8a78-1e14f326c5b7",
   "metadata": {},
   "source": [
    "### Завдання 2: Вилучення максимального елемента купи"
   ]
  },
  {
   "cell_type": "markdown",
   "id": "ff510d79-ec63-413e-a1ee-3fa9024ff3c4",
   "metadata": {},
   "source": [
    ">Постановка задачі\n",
    "* Написати процедуру генерації купи з будь-якого рандомного масива\n",
    "* Додати до нього елемент 6\n",
    "* Вилучити максимальний елемент з купи\n",
    "* Оцінити асимптотичну складність (в середньому і в найгіршому випадку) процедур `search`, `insert` і `delete` роботи з з купою."
   ]
  },
  {
   "cell_type": "code",
   "execution_count": 4,
   "id": "a1d38f4a-4aea-4ee6-989f-7be1515e6626",
   "metadata": {},
   "outputs": [
    {
     "name": "stdout",
     "output_type": "stream",
     "text": [
      "початкова купа: [10, 10, 54, 19, 44, 62, 92, 37, 100, 50]\n",
      "купа після додавання 6: [6, 10, 54, 19, 10, 62, 92, 37, 100, 50, 44]\n",
      "купа після вилучення максимального елемента: [10, 10, 54, 19, 44, 62, 92, 37, 100, 50]\n"
     ]
    }
   ],
   "source": [
    "import heapq\n",
    "import random\n",
    "\n",
    "def generate_heap_randomly(size):\n",
    "    \n",
    "    array = [random.randint(1, 100) for _ in range(size)]\n",
    "    heapq.heapify(array) \n",
    "    return array\n",
    "\n",
    "def add_element_to_heap(heap, element):\n",
    "   \n",
    "    heapq.heappush(heap, element)\n",
    "\n",
    "def remove_max_from_heap(heap):\n",
    "    \n",
    "    heapq.heappop(heap)\n",
    "\n",
    "\n",
    "heap = generate_heap_randomly(10)\n",
    "print(\"початкова купа:\", heap)\n",
    "\n",
    "add_element_to_heap(heap, 6)\n",
    "print(\"купа після додавання 6:\", heap)\n",
    "\n",
    "remove_max_from_heap(heap)\n",
    "print(\"купа після вилучення максимального елемента:\", heap)\n"
   ]
  },
  {
   "cell_type": "markdown",
   "id": "f82b54ce-c3e5-43e6-a314-50667bb5a05b",
   "metadata": {},
   "source": [
    "### Контрольні запитання"
   ]
  },
  {
   "cell_type": "markdown",
   "id": "7ad872be-6fc1-4d62-82aa-1bb6771c1a7b",
   "metadata": {},
   "source": [
    ">Чим відрізняється структура бінарне дерево він бінарного дерева пошуку?\n",
    "*Бінарне дерево є загальним терміном і описує структуру даних, де кожен вузол може мати не більше двох дочірніх вузлів. Ця структура може мати різні застосування в залежності від специфіки задачі.\n",
    ">Чим відрізняється структура бінарне дерево від бінарної купи?\n",
    "*Бінарне дерево і бінарна купа є двома різними структурами даних, які використовуються для різних цілей і мають різні властивості."
   ]
  }
 ],
 "metadata": {
  "kernelspec": {
   "display_name": "Python 3 (ipykernel)",
   "language": "python",
   "name": "python3"
  },
  "language_info": {
   "codemirror_mode": {
    "name": "ipython",
    "version": 3
   },
   "file_extension": ".py",
   "mimetype": "text/x-python",
   "name": "python",
   "nbconvert_exporter": "python",
   "pygments_lexer": "ipython3",
   "version": "3.11.7"
  }
 },
 "nbformat": 4,
 "nbformat_minor": 5
}
