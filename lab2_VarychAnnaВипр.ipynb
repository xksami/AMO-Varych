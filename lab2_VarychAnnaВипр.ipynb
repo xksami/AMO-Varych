{
 "cells": [
  {
   "cell_type": "markdown",
   "id": "e2b2fb37-8523-4db0-826a-9797e3f66797",
   "metadata": {},
   "source": [
    "### __ЛАБОРАТОРНА РОБОТА № 2. Налаштування та робота в середовищі Anaconda+Quarto__\n",
    "\n",
    "\r\n"
   ]
  },
  {
   "cell_type": "markdown",
   "id": "c0d7cb5b-3f26-4bd7-b5f0-f965f698601a",
   "metadata": {},
   "source": [
    " #### _1) Завантаження та встановлення додатка Anaconda:_"
   ]
  },
  {
   "cell_type": "markdown",
   "id": "99e9dc69-4f10-42f0-aa13-7c74f6e36535",
   "metadata": {},
   "source": [
    ">Я завантажила додаток Anaconda за інструкцією та встановила його на пк. Сам додаток в мене встановився правильно. Це можна побачити на малюнку:"
   ]
  },
  {
   "cell_type": "markdown",
   "id": "e418e875-785f-4877-b72c-4e2500e6e5a7",
   "metadata": {},
   "source": [
    "![Малюнок1](C:\\Users\\xksam\\рисунки\\мал1.png)"
   ]
  },
  {
   "cell_type": "markdown",
   "id": "a76c37fc-8a61-4ff0-bbc8-79b24e21c5e5",
   "metadata": {},
   "source": [
    "#### _2) Запуск командного рядка_\r\n"
   ]
  },
  {
   "cell_type": "markdown",
   "id": "eaf602cd-5a06-4c19-8246-7a836eebf9ae",
   "metadata": {},
   "source": [
    ">Я запустила командний рядок Anaconda Prompt, та перевіряю версію Conda у рядку. Перевіряти буду за допомогою команди: `conda -V`.\n"
   ]
  },
  {
   "cell_type": "markdown",
   "id": "fa0168f5-95e7-4588-ac1d-183954f9f659",
   "metadata": {},
   "source": [
    "![Малюнок1](C:\\Users\\xksam\\рисунки\\мал2.png)"
   ]
  },
  {
   "cell_type": "markdown",
   "id": "3af08e6d-42fd-48cc-ad6b-cbee42fc2ab2",
   "metadata": {},
   "source": [
    ">Також, аналогічно я перевіряю версію Python. Використовую команду: `python -V`."
   ]
  },
  {
   "cell_type": "markdown",
   "id": "c8580a66-0667-4970-b4c6-d67ff6bb25fb",
   "metadata": {},
   "source": [
    "![Малюнок1](C:\\Users\\xksam\\рисунки\\мал3.png)"
   ]
  },
  {
   "cell_type": "markdown",
   "id": "41ed505c-d263-4bb8-9459-c88fd8995f43",
   "metadata": {},
   "source": [
    ">Для того щоб я отримала детальну інформацію про версії інтерпретатора, я використовую таку команду: `conda info`.\n"
   ]
  },
  {
   "cell_type": "markdown",
   "id": "5f74dcf3-2c38-4826-a976-71d3bebe2b40",
   "metadata": {},
   "source": [
    "![Малюнок1](C:\\Users\\xksam\\рисунки\\мал4.png)"
   ]
  },
  {
   "cell_type": "markdown",
   "id": "9ba1f9f0-77de-49d5-a5fb-8a337ca054b2",
   "metadata": {},
   "source": [
    ">Після всіх дій, що я зробила, я повинна виконати оновлення середовища за допомогою таких команд: \n"
   ]
  },
  {
   "cell_type": "markdown",
   "id": "d92d6113-b8aa-4376-b753-59fe7986cd29",
   "metadata": {},
   "source": [
    "- `conda update conda`\n",
    "- `conda update anaconda`\n",
    "- `conda update --all`"
   ]
  },
  {
   "cell_type": "markdown",
   "id": "092153a0-618e-42f4-8ade-0680f5260d4d",
   "metadata": {},
   "source": [
    "![Малюнок1](C:\\Users\\xksam\\рисунки\\мал5.png)"
   ]
  },
  {
   "cell_type": "markdown",
   "id": "74aed696-41f2-4f41-83f0-8fb66d3ef708",
   "metadata": {},
   "source": [
    "#### _3) Налаштування віртуального середовища за допомогою Conda_"
   ]
  },
  {
   "cell_type": "markdown",
   "id": "cd3daee3-6ba6-43c4-b800-4c96eb41e61c",
   "metadata": {},
   "source": [
    ">Я налаштовую віртульне середовище для роботи з OpenCV. Для того щоб я змогла продивитися доступні віртуальні середовища, я скористуюся командою: `conda env list`.\n"
   ]
  },
  {
   "cell_type": "markdown",
   "id": "fae7ff18-d8fe-4dad-bc22-a8468ae15ca4",
   "metadata": {},
   "source": [
    "![Малюнок1](C:\\Users\\xksam\\рисунки\\мал6.png)"
   ]
  },
  {
   "cell_type": "markdown",
   "id": "22c0c371-c2dc-4d6c-a107-405ab37d9862",
   "metadata": {},
   "source": [
    ">Створюю середовище з ім’ям ann. Команда: `conda create --name myenv`.\n"
   ]
  },
  {
   "cell_type": "markdown",
   "id": "5c90bf83-9e79-4855-9d9f-5e12e0d0d0b5",
   "metadata": {},
   "source": [
    "![Малюнок1](C:\\Users\\xksam\\рисунки\\мал7.png)"
   ]
  },
  {
   "cell_type": "markdown",
   "id": "25aef33b-62fd-47a0-95a6-574d881de01c",
   "metadata": {},
   "source": [
    ">Для того щоб все активувалося, я використовую команду: `conda activate ann`.\n"
   ]
  },
  {
   "cell_type": "markdown",
   "id": "1f14b689-f83d-4732-a59c-6d418d950b39",
   "metadata": {},
   "source": [
    "![Малюнок1](C:\\Users\\xksam\\рисунки\\мал8.png)"
   ]
  },
  {
   "cell_type": "markdown",
   "id": "b1de79cf-24d9-42c3-bc54-e5f3162b8332",
   "metadata": {},
   "source": [
    ">Тепер мені потрібно інсталювати пакети для OpenCV. Щоб встановити пакет, я вписую таку команду: `conda install openCV`.\n"
   ]
  },
  {
   "cell_type": "markdown",
   "id": "f580a256-ec5c-4c00-87f2-b63ba36841f6",
   "metadata": {},
   "source": [
    "![Малюнок1](C:\\Users\\xksam\\рисунки\\мал9.png)"
   ]
  },
  {
   "cell_type": "markdown",
   "id": "69f71d29-db95-4990-b5a4-c7b55079f7fb",
   "metadata": {},
   "source": [
    ">Далі я встановлюю пакети для Python. Використовую таку команду: `pip install opencv-python`.\n"
   ]
  },
  {
   "cell_type": "markdown",
   "id": "98e9f37f-4553-4b75-8606-f27e3c85e304",
   "metadata": {},
   "source": [
    "![Малюнок1](C:\\Users\\xksam\\рисунки\\мал10.png)"
   ]
  },
  {
   "cell_type": "markdown",
   "id": "9437324b-8d5b-4dec-9ab1-b5130c3e79b6",
   "metadata": {},
   "source": [
    ">Встановлюю пакети для матриць та математичних обчислень. Використовую команду: `conda install numpy`, `conda install matplotlib`.\n"
   ]
  },
  {
   "cell_type": "markdown",
   "id": "4f2547aa-4615-42f5-abba-61329d34acc3",
   "metadata": {},
   "source": [
    "![Малюнок1](C:\\Users\\xksam\\рисунки\\мал11.png)"
   ]
  },
  {
   "cell_type": "markdown",
   "id": "bfae4386-fadc-4882-b4aa-88c790caf601",
   "metadata": {},
   "source": [
    "### _Контрольні запитання_"
   ]
  },
  {
   "cell_type": "markdown",
   "id": "9a303950-46e1-4e03-a24a-57a54c44d00a",
   "metadata": {},
   "source": [
    "1. **Що таке pip і conda та чим вони відрізняються між собою?**\n",
    "  - Pip і conda - це менеджери пакетів для Python, але conda також використовується для управління пакетами не тільки Python. Основна відмінність полягає в тому, що pip використовується для установки пакетів з Python Package Index (PyPI), тоді як conda використовує свій власний репозиторій пакетів і може управляти не тільки Python-пакетами, але й іншими залежностями.\n"
   ]
  },
  {
   "cell_type": "markdown",
   "id": "32b9ced2-1450-4571-b18c-0b1315d91daa",
   "metadata": {},
   "source": [
    "2. **Як буде виглядати виконання пунктів 1–3 індивідуального завдання за допомогою Virtualenv?**\n",
    "  - Виконання пунктів 1–3 індивідуального завдання за допомогою Virtualenv полягає у створенні віртуального середовища Python за допомогою команди virtualenv, активації цього середовища, встановленні необхідних пакетів з допомогою pip, імпортуванні свого зображення у форматі .png та виконанні необхідних завдань.\n"
   ]
  },
  {
   "cell_type": "markdown",
   "id": "c6ac6b3e-74c3-41d8-9beb-b4f870eca816",
   "metadata": {},
   "source": [
    "3.  **Як виконати компіляцію вхідного документа Jupyter Notebook із його середовища, не використовуючи інтерфейс командного рядка?**\n",
    "  - Компіляцію вхідного документа Jupyter Notebook можна виконати, запустивши ядро Jupyter і обравши \"Експортувати відформатовано\" в меню \"Файл\".\n"
   ]
  },
  {
   "cell_type": "markdown",
   "id": "205603a7-0cb4-489d-9bdd-5c67a4bbb8e0",
   "metadata": {},
   "source": [
    "4.  **Як виконати компіляцію вхідного документа у Quarto?**\n",
    "  - Для компіляції вхідного документа у Quarto необхідно встановити Quarto, а потім використовувати команду `quarto render input_filename.qmd`, де `input_filename.qmd` - це ваш вихідний документ Quarto."
   ]
  },
  {
   "cell_type": "code",
   "execution_count": null,
   "id": "083edcd4-7c51-4fb6-ae9d-692ae563e4e3",
   "metadata": {},
   "outputs": [],
   "source": []
  }
 ],
 "metadata": {
  "kernelspec": {
   "display_name": "Python 3 (ipykernel)",
   "language": "python",
   "name": "python3"
  },
  "language_info": {
   "codemirror_mode": {
    "name": "ipython",
    "version": 3
   },
   "file_extension": ".py",
   "mimetype": "text/x-python",
   "name": "python",
   "nbconvert_exporter": "python",
   "pygments_lexer": "ipython3",
   "version": "3.11.7"
  }
 },
 "nbformat": 4,
 "nbformat_minor": 5
}
