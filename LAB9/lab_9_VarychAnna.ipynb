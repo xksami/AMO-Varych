{
 "cells": [
  {
   "cell_type": "markdown",
   "id": "595a6b39-1d0e-4eed-8450-b8be3b1381d1",
   "metadata": {},
   "source": [
    "# Лабораторна робота №9. Алгоритми на рядках"
   ]
  },
  {
   "cell_type": "markdown",
   "id": "c2e0f03f-cac4-4c21-949c-e31e412adca9",
   "metadata": {},
   "source": [
    "### __Мета:__ _засвоїти головні алгоритми на рядках засобами мови Python._ "
   ]
  },
  {
   "cell_type": "markdown",
   "id": "fcd1719f-1e2b-4c23-a98f-afc6030714d6",
   "metadata": {},
   "source": [
    "Виконала роботу студентка групи КН-23-1 Варич Анна "
   ]
  },
  {
   "cell_type": "markdown",
   "id": "04166e5a-e6c8-4715-8887-3816a46c57a6",
   "metadata": {},
   "source": [
    "#### Завдання 1"
   ]
  },
  {
   "cell_type": "markdown",
   "id": "3955942a-8179-416a-bce8-aa5196e21a9a",
   "metadata": {},
   "source": [
    "* __Постановка задачі:__ повторити код, наведений вище для довільних рядків;"
   ]
  },
  {
   "cell_type": "code",
   "execution_count": 1,
   "id": "4e27f1cd-0592-4f86-ad33-98d8e52036ef",
   "metadata": {},
   "outputs": [
    {
     "name": "stdout",
     "output_type": "stream",
     "text": [
      "[1, 3, 5, 7, 9, 11, 13, 15, 17, 19, 21, 23, 25, 27, 29, 31, 33, 35, 37, 39, 41, 43, 45, 47, 49, 51, 53, 55, 57, 59, 61, 63, 65]\n",
      "[11, 0, 0, 1, 0, 1, 0, 4, 0, 0, 1, 0]\n",
      "abracadabra\n"
     ]
    }
   ],
   "source": [
    "def naive_match(p, t):\n",
    "    assert len(p) <= len(t)\n",
    "    occurrences = []\n",
    "    for i in range(0, len(t)-len(p)+1):\n",
    "        match = True\n",
    "        for j in range(0, len(p)):\n",
    "            if t[i+j] != p[j]:\n",
    "                match = False\n",
    "                break\n",
    "        if match:\n",
    "            occurrences.append(i)\n",
    "    return occurrences\n",
    "\n",
    "t = 'abababababababababababababababababababababababababababababababababababab'\n",
    "p = 'bababab'\n",
    "print(naive_match(p, t))\n",
    "\n",
    "\n",
    "def z_func(s):\n",
    "    Z = [len(s)] + [0] * len(s)\n",
    "    assert len(s) > 1\n",
    "    \n",
    "    for i in range(1, len(s)):\n",
    "        if s[i] == s[i - 1]:\n",
    "            Z[1] += 1\n",
    "        else:\n",
    "            break\n",
    "    \n",
    "    r, l = 0, 0\n",
    "    if Z[1] > 0:\n",
    "        r, l = Z[1], 1\n",
    "    \n",
    "    for k in range(2, len(s)):\n",
    "        assert Z[k] == 0\n",
    "        if k > r:\n",
    "            for i in range(k, len(s)):\n",
    "                if s[i] == s[i - k]:\n",
    "                    Z[k] += 1\n",
    "                else:\n",
    "                    break\n",
    "            r, l = k + Z[k] - 1, k\n",
    "        else:\n",
    "            nbeta = r - k + 1\n",
    "            Zkp = Z[k - l]\n",
    "            if nbeta > Zkp:\n",
    "                Z[k] = Zkp\n",
    "            else:\n",
    "                nmatch = 0\n",
    "                for i in range(r + 1, len(s)):\n",
    "                    if s[i] == s[i - k]:\n",
    "                        nmatch += 1\n",
    "                    else:\n",
    "                        break\n",
    "                l, r = k, r + nmatch\n",
    "                Z[k] = r - k + 1\n",
    "    return Z\n",
    "\n",
    "s = \"abracadabra\"\n",
    "print(z_func(s))\n",
    "\n",
    "\n",
    "def compress_with_z(s):\n",
    "    z_vec = z_func(s)\n",
    "    \n",
    "    for i in range(1, len(s)):\n",
    "        if (i + z_vec[i] == len(s)) and (z_vec[i] % i == 0):\n",
    "            return s[:i]\n",
    "    else:\n",
    "        return s\n",
    "\n",
    "s = \"abracadabraabracadabraabracadabra\"\n",
    "print(compress_with_z(s))\n"
   ]
  },
  {
   "cell_type": "markdown",
   "id": "33a14ef0-bbca-47f7-859f-de796f5de8e6",
   "metadata": {},
   "source": [
    "#### Завдання 2"
   ]
  },
  {
   "cell_type": "markdown",
   "id": "2a885d27-4f3a-4f55-a015-cc2cc576812d",
   "metadata": {},
   "source": [
    "* __Постановка задачі:__ пояснити асимптотику наївного алгоритму пошуку підрядка;"
   ]
  },
  {
   "cell_type": "markdown",
   "id": "25bde422-607a-43c7-98bc-bfef084ebe6c",
   "metadata": {},
   "source": [
    "__Асимптотика наївного алгоритму пошуку підрядка:__\n",
    "* У наївному алгоритмі пошуку підрядка ми маємо два вкладені цикли. Один цикл перебирає кожну позицію у тексті, а другий - кожну позицію у шаблоні. У найгіршому випадку, коли збіг відбувається тільки на останній позиції тексту і шаблону, ми маємо $O(|t||p|)$ порівнянь символів."
   ]
  },
  {
   "cell_type": "markdown",
   "id": "0a3ea033-cf92-4020-9aa9-ee3f6949fded",
   "metadata": {},
   "source": [
    "#### Завдання 3"
   ]
  },
  {
   "cell_type": "markdown",
   "id": "e66654dc-422e-4768-b125-710d53f16b3b",
   "metadata": {},
   "source": [
    "* __Постановка задачі:__ обчислити асимптотичну складність алгоритму стиснення рядка за допомогою z-функції."
   ]
  },
  {
   "cell_type": "markdown",
   "id": "d1e1d0d6-a545-4a8a-ba8a-2eb2510b8eb7",
   "metadata": {},
   "source": [
    "__Обчислення асимптотичної складності алгоритму стиснення рядка за допомогою Z-функції:__\n",
    "* Алгоритм стиснення рядка за допомогою Z-функції має асимптотичну складність $O(n)$, де $n$ - довжина вхідного рядка. Це через те, що ми проходимося по кожному символу рядка один раз, а далі виконуємо операції, які залежать від довжини рядка (такі як цикли)."
   ]
  },
  {
   "cell_type": "markdown",
   "id": "74711981-7445-4c3e-b59c-94778ed61f4b",
   "metadata": {},
   "source": [
    "### Контрольні запитання"
   ]
  },
  {
   "cell_type": "code",
   "execution_count": null,
   "id": "a6ec6658-94e1-4ff5-9ae8-75a95a0ee48e",
   "metadata": {},
   "outputs": [],
   "source": [
    "Що таке «префікс-функція» у контексті алгоритмів на рядках, і як вона відрізняється від Z-функції?\n",
    "\n",
    " Префікс-функція рядка S - це масив π, де π[i] - це довжина найбільшого спільного префіксу та суфіксу для підрядка S[0...i]. Z-функція також вимірює спільність префіксу та суфіксу, але її значення залежать від іншого визначення та мають інтерпретацію як кількість символів, що збігаються між рядком та його префіксом, починаючи з позиції i.\n",
    "\n",
    "Що таке Z-функція у вищому контексті алгоритмів на рядках, і яке вона має значення для розв’язання задач?\n",
    "\n",
    "Z-функція рядка S - це масив Z, де Z[i] - це найбільша можлива довжина підрядка, починаючи з позиції i, який є також префіксом рядка S.\n",
    "\n",
    "Які існують підходи до розв’язання задачі «найдовший спільний підрядок» для двох рядків?\n",
    "\n",
    "До підходів для розв’язання задачі «найдовший спільний підрядок» включають динамічне програмування, алгоритми на основі Z-функцій та префікс-функцій, а також методи на основі суфіксних дерев та суфіксних масивів.\n",
    "\n",
    "Як можна застосувати алгоритми на рядках у задачах обробки природної мови або обробки текстів?\n",
    "\n",
    "Алгоритми на рядках широко використовуються в задачах обробки природної мови та обробки текстів для знаходження подібностей між рядками, виявлення паттернів, вилучення інформації тощо. Наприклад, Z-функція та префікс-функція можуть бути використані для пошуку підрядків у тексті, алгоритми розбиття рядка можуть допомогти у токенізації або розпізнаванні іменованих сутностей.\n",
    "\n"
   ]
  }
 ],
 "metadata": {
  "kernelspec": {
   "display_name": "Python 3 (ipykernel)",
   "language": "python",
   "name": "python3"
  },
  "language_info": {
   "codemirror_mode": {
    "name": "ipython",
    "version": 3
   },
   "file_extension": ".py",
   "mimetype": "text/x-python",
   "name": "python",
   "nbconvert_exporter": "python",
   "pygments_lexer": "ipython3",
   "version": "3.11.7"
  }
 },
 "nbformat": 4,
 "nbformat_minor": 5
}
