{
 "cells": [
  {
   "cell_type": "markdown",
   "id": "964de212-4eae-46c1-8af7-f2417f22ab28",
   "metadata": {},
   "source": [
    "# Лабораторна робота №5. Алгоритми пошуку."
   ]
  },
  {
   "cell_type": "markdown",
   "id": "be8f0d7c-2611-480b-8935-2a7b145c9b04",
   "metadata": {},
   "source": [
    "### Мета: Засвоїти варіанти реалізації алгоритмів пошуку засобами Python і методи оцінки їх складності."
   ]
  },
  {
   "cell_type": "markdown",
   "id": "8a0b759f-8942-4229-b16f-25da3901cfb4",
   "metadata": {},
   "source": [
    "Роботу виконала студентка групи КН-23-1 Варич Анна"
   ]
  },
  {
   "cell_type": "markdown",
   "id": "370ddcae-e58b-4c19-8964-73ffacdb0d7a",
   "metadata": {},
   "source": [
    "### Завдання 1: Лінійний пошук."
   ]
  },
  {
   "cell_type": "markdown",
   "id": "d75181ca-f1f9-45e5-8297-c3e664540134",
   "metadata": {},
   "source": [
    "### Постановка задачі:\n",
    ">Оцінити асимптотичну складність алгоритму лінійного пошуку у О-нотації."
   ]
  },
  {
   "cell_type": "code",
   "execution_count": 1,
   "id": "cf4c9740-00a3-403f-8e1e-1ddf962da720",
   "metadata": {},
   "outputs": [
    {
     "name": "stdin",
     "output_type": "stream",
     "text": [
      "Введіть шуканий елемент:  3\n"
     ]
    },
    {
     "name": "stdout",
     "output_type": "stream",
     "text": [
      "Індекс шуканого елемента: 2\n"
     ]
    }
   ],
   "source": [
    "def linear_search(a_list, x):\n",
    "    i, length = 0, len(a_list)  \n",
    "    while i < length and x != a_list[i]: \n",
    "        i += 1  \n",
    "    return i if i < length else -1 \n",
    "\n",
    "search_item = int(input(\"Введіть шуканий елемент: \"))\n",
    "a = [32, 1, 3, 4, 2, 1]\n",
    "\n",
    "result = linear_search(a, search_item)\n",
    "\n",
    "print(\"Індекс шуканого елемента:\", result)"
   ]
  },
  {
   "cell_type": "markdown",
   "id": "79b575cd-5dcc-4f81-b68a-f113d75ba341",
   "metadata": {},
   "source": [
    "### Завдання 2: Бінарний пошук."
   ]
  },
  {
   "cell_type": "markdown",
   "id": "cfc62e72-6b68-4c4a-9116-18597796d910",
   "metadata": {},
   "source": [
    "### Постановка задачі:\n",
    ">Оцінити асимптотичну складність алгоритму бінарного пошуку пошуку у $О$-нотації."
   ]
  },
  {
   "cell_type": "code",
   "execution_count": 2,
   "id": "48a01618-73b6-437e-8b0c-6daf91c13c4c",
   "metadata": {},
   "outputs": [
    {
     "name": "stdin",
     "output_type": "stream",
     "text": [
      "Введіть шуканий елемент:  32\n"
     ]
    },
    {
     "name": "stdout",
     "output_type": "stream",
     "text": [
      "Елемент знайдено на позиції: 4\n"
     ]
    }
   ],
   "source": [
    "def binary_search(a_list, x):\n",
    "    left, right = 0, len(a_list) - 1\n",
    "    while left <= right:\n",
    "        mid = (left + right) // 2\n",
    "        if a_list[mid] == x:\n",
    "            return mid\n",
    "        elif a_list[mid] < x:\n",
    "            left = mid + 1\n",
    "        else:\n",
    "            right = mid - 1\n",
    "    return -1\n",
    "\n",
    "search_item = int(input(\"Введіть шуканий елемент: \"))\n",
    "a = [1, 2, 3, 4, 32]\n",
    "result = binary_search(a, search_item)\n",
    "if result != -1:\n",
    "    print(\"Елемент знайдено на позиції:\", result)\n",
    "else:\n",
    "    print(\"Елемент не знайдено\")\n"
   ]
  },
  {
   "cell_type": "markdown",
   "id": "e3d87e3e-336e-4378-8d28-f3c8c9f02876",
   "metadata": {},
   "source": [
    ">Написати функцію, яка б могла повертати датафрейм з наступним складом полів: (\"n\", \"time\"), де `n` -- розмір масиву для функції `linear_searh();"
   ]
  },
  {
   "cell_type": "code",
   "execution_count": 3,
   "id": "d42ecafb-3257-4303-8ef5-3f56aa222ae2",
   "metadata": {},
   "outputs": [
    {
     "name": "stdout",
     "output_type": "stream",
     "text": [
      "        n  time\n",
      "0       1   0.0\n",
      "1       2   0.0\n",
      "2       3   0.0\n",
      "3       4   0.0\n",
      "4       5   0.0\n",
      "..    ...   ...\n",
      "995   996   0.0\n",
      "996   997   0.0\n",
      "997   998   0.0\n",
      "998   999   0.0\n",
      "999  1000   0.0\n",
      "\n",
      "[1000 rows x 2 columns]\n"
     ]
    }
   ],
   "source": [
    "import pandas as pd\n",
    "import time\n",
    "\n",
    "def linear_search_performance(num_iterations):\n",
    "    data = []\n",
    "    for n in num_iterations:\n",
    "        a_list = list(range(n))\n",
    "        start_time = time.time()\n",
    "        linear_search(a_list, -1)\n",
    "        end_time = time.time()\n",
    "        execution_time = end_time - start_time\n",
    "        data.append((n, execution_time))\n",
    "\n",
    "    df = pd.DataFrame(data, columns=[\"n\", \"time\"])\n",
    "    return df\n",
    "\n",
    "performance_df = linear_search_performance(range(1, 1001))\n",
    "print(performance_df)\n"
   ]
  },
  {
   "cell_type": "markdown",
   "id": "8bf5dc46-db87-46c5-9538-d604d9fdaf85",
   "metadata": {},
   "source": [
    ">Написати функцію, яка б могла повертати датафрейм з наступним складом полів: (\"n\", \"time\"), де `n` -- розмір масиву для функції `bin_searh();"
   ]
  },
  {
   "cell_type": "code",
   "execution_count": 4,
   "id": "60ab4b7d-c206-4659-b5c6-c4119fef5891",
   "metadata": {},
   "outputs": [
    {
     "name": "stdout",
     "output_type": "stream",
     "text": [
      "        n  time\n",
      "0       1   0.0\n",
      "1       2   0.0\n",
      "2       3   0.0\n",
      "3       4   0.0\n",
      "4       5   0.0\n",
      "..    ...   ...\n",
      "995   996   0.0\n",
      "996   997   0.0\n",
      "997   998   0.0\n",
      "998   999   0.0\n",
      "999  1000   0.0\n",
      "\n",
      "[1000 rows x 2 columns]\n"
     ]
    }
   ],
   "source": [
    "import pandas as pd\n",
    "import time\n",
    "\n",
    "def binary_search_performance(num_iterations):\n",
    "    data = []  \n",
    "    for n in num_iterations:\n",
    "        a_list = list(range(n))  \n",
    "        start_time = time.time()  \n",
    "        binary_search(a_list, -1)  \n",
    "        end_time = time.time()  \n",
    "        execution_time = end_time - start_time  \n",
    "        data.append((n, execution_time))  \n",
    "\n",
    "    df = pd.DataFrame(data, columns=[\"n\", \"time\"])\n",
    "    return df\n",
    "\n",
    "performance_df = binary_search_performance(range(1, 1001))\n",
    "print(performance_df)\n"
   ]
  },
  {
   "cell_type": "markdown",
   "id": "db89e484-27ad-4091-9d34-9221c2cdaa1a",
   "metadata": {},
   "source": [
    ">За результатами попередніх завдань побудувати графіки залежності часу виконання процедури пошуку від розміру масиву."
   ]
  },
  {
   "cell_type": "code",
   "execution_count": 6,
   "id": "6926600f-658a-4db9-8381-c56eec953f96",
   "metadata": {},
   "outputs": [
    {
     "data": {
      "image/png": "[encoded data removed]",
      "text/plain": [
       "<Figure size 640x480 with 1 Axes>"
      ]
     },
     "metadata": {},
     "output_type": "display_data"
    }
   ],
   "source": [
    "import pandas as pd\n",
    "import time\n",
    "import matplotlib.pyplot as plt\n",
    "\n",
    "def linear_search_performance(num_iterations):\n",
    "    data = []\n",
    "    for n in num_iterations:\n",
    "        a_list = list(range(n))\n",
    "        start_time = time.time()\n",
    "        linear_search(a_list, -1)\n",
    "        end_time = time.time()\n",
    "        execution_time = end_time - start_time\n",
    "        data.append((n, execution_time))\n",
    "\n",
    "    df = pd.DataFrame(data, columns=[\"n\", \"time\"])\n",
    "    return df\n",
    "\n",
    "def binary_search_performance(num_iterations):\n",
    "    data = []  \n",
    "    for n in num_iterations:\n",
    "        a_list = list(range(n))  \n",
    "        start_time = time.time()  \n",
    "        binary_search(a_list, -1)  \n",
    "        end_time = time.time()  \n",
    "        execution_time = end_time - start_time  \n",
    "        data.append((n, execution_time))  \n",
    "\n",
    "    df = pd.DataFrame(data, columns=[\"n\", \"time\"])\n",
    "    return df\n",
    "\n",
    "num_iterations = range(1, 1001)\n",
    "\n",
    "linear_df = linear_search_performance(num_iterations)\n",
    "binary_df = binary_search_performance(num_iterations)\n",
    "\n",
    "plt.plot(linear_df[\"n\"], linear_df[\"time\"], label=\"лінійний пошук\")\n",
    "plt.plot(binary_df[\"n\"], binary_df[\"time\"], label=\"бінарний пошук\")\n",
    "plt.xlabel(\"Size of Array (n)\")\n",
    "plt.ylabel(\"Time (seconds)\")\n",
    "plt.title(\"Performance Comparison: лінійний vs бінарний пошук\")\n",
    "plt.legend()\n",
    "plt.show()\n"
   ]
  },
  {
   "cell_type": "markdown",
   "id": "46bed792-5551-4480-bb3a-69f3d45efec5",
   "metadata": {},
   "source": [
    ">Оцінити, який з двох алгоритмів є більш ефективним та в якому діапазоні розміру задачі."
   ]
  },
  {
   "cell_type": "markdown",
   "id": "9fadb9bf-6bbe-4c6c-8379-21571c878e82",
   "metadata": {},
   "source": [
    "* Бінарний пошук є більш ефективним алгоритмом для великих розмірів масивів, тоді як лінійний пошук є більш ефективним для невеликих розмірів масивів."
   ]
  },
  {
   "cell_type": "markdown",
   "id": "fa032f04-f34c-4c60-9502-4d9d1d94bab0",
   "metadata": {},
   "source": [
    "### Контрольні запитання"
   ]
  },
  {
   "cell_type": "code",
   "execution_count": null,
   "id": "9da52398-306d-45a3-9b22-aaa09bcc0b0d",
   "metadata": {},
   "outputs": [],
   "source": [
    "1. Дати визначення складності задачі з символом $\\Omega$.\n",
    ">Визначення складності задачі з символом $\\Omega$ вказує на нижню межу складності алгоритму або задачі. Формально, $\\Omega(g(n))$ визначає клас функцій, які є нижніми межами для функцій складності від n, коли n збільшується до нескінченності. Це означає, що складність алгоритму або задачі не менше ніж $g(n)$ у найгіршому випадку.\n",
    "2. Функція часової складності має вигляд: $F(N)=N^3+7N^2-14N$. Як записати асимптотичну складність в нотації $O()$?\n",
    ">Асимптотична складність в нотації $O()$ визначається за найвищим степенем члену у функції. У випадку даної функції $F(N)=N^3+7N^2-14N$, найвищий степінь це $N^3$. Отже, асимптотична складність цієї функції буде $O(N^3)$.\n",
    "3. Функція часової складності має вигляд: $F(N)=1.01^N+N^{10}$. Як записати аисмптотичну складність в нотації $O()$?\n",
    ">У цьому випадку, коли ми розглядаємо асимптотичну складність, ми враховуємо лише найбільш значущий член. Отже, найбільш значущий член у функції $F(N)$ - це $N^{10}$.Таким чином, асимптотична складність цієї функції може бути записана як $O(N^{10})$.\n",
    "4. Функція часової складності має вигляд: $F(N)=N^{1.3}+10log_2N$. Як записати аисмптотичну складність в нотації $O()$?\n",
    ">У цьому випадку найвищий степінь, який визначає асимптотичну складність, є степінь $N^{1.3}$, оскільки він переважає над логарифмічним членом $10\\log_2 N$. Тому асимптотична складність цієї функції може бути записана як $O(N^{1.3})$.\n",
    "5. У чому полягає ідея розпараллелювання обчислень і для чого вона використовується? Які з алгоритмів, наведених у даній лаораторній роботі дозволяють можливість розпаралелювання?\n",
    ">\n",
    "6. Які існують шляхи підвищення обчислювальної швидкості алгоритмів? Який з них є найбільш ефективним?\n",
    ">"
   ]
  }
 ],
 "metadata": {
  "kernelspec": {
   "display_name": "Python 3 (ipykernel)",
   "language": "python",
   "name": "python3"
  },
  "language_info": {
   "codemirror_mode": {
    "name": "ipython",
    "version": 3
   },
   "file_extension": ".py",
   "mimetype": "text/x-python",
   "name": "python",
   "nbconvert_exporter": "python",
   "pygments_lexer": "ipython3",
   "version": "3.11.7"
  }
 },
 "nbformat": 4,
 "nbformat_minor": 5
}
